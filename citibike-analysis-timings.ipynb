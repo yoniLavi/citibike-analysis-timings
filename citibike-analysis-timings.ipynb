{
 "cells": [
  {
   "cell_type": "code",
   "execution_count": 1,
   "metadata": {},
   "outputs": [
    {
     "name": "stdout",
     "output_type": "stream",
     "text": [
      "[('\"W 20 St & 11 Ave\"', 5983), ('\"E 17 St & Broadway\"', 5621), ('\"Broadway & W 58 St\"', 5401), ('\"Broadway & E 14 St\"', 5177), ('\"Broadway & W 24 St\"', 4955)]\n",
      "CPU times: user 328 ms, sys: 23.2 ms, total: 351 ms\n",
      "Wall time: 488 ms\n"
     ]
    }
   ],
   "source": [
    "%%time\n",
    "# Approach 0 - no imports\n",
    "counter = {}\n",
    "\n",
    "with open(\"citibike.csv\") as f:\n",
    "    f.readline() # skip headers\n",
    "    for line in f:\n",
    "        station = line.split(',')[4]\n",
    "        counter.setdefault(station, 0)\n",
    "        counter[station] += 1\n",
    "\n",
    "print(sorted(counter.items(), key=lambda s: s[1], reverse=True)[:5])"
   ]
  },
  {
   "cell_type": "code",
   "execution_count": 2,
   "metadata": {},
   "outputs": [
    {
     "name": "stdout",
     "output_type": "stream",
     "text": [
      "[('W 20 St & 11 Ave', 5983), ('E 17 St & Broadway', 5621), ('Broadway & W 58 St', 5401), ('Broadway & E 14 St', 5177), ('Broadway & W 24 St', 4955)]\n",
      "CPU times: user 1.15 s, sys: 18.5 ms, total: 1.17 s\n",
      "Wall time: 1.17 s\n"
     ]
    }
   ],
   "source": [
    "%%time\n",
    "# Approach 1 - CSV DictReader and Counter\n",
    "from csv import DictReader\n",
    "from collections import Counter\n",
    "\n",
    "counter = Counter()\n",
    "with open(\"citibike.csv\") as f:\n",
    "    for row in DictReader(f):\n",
    "        counter[row['start station name']] += 1\n",
    "\n",
    "print(counter.most_common(5))"
   ]
  },
  {
   "cell_type": "code",
   "execution_count": 3,
   "metadata": {},
   "outputs": [
    {
     "name": "stdout",
     "output_type": "stream",
     "text": [
      "[('W 20 St & 11 Ave', 5983), ('E 17 St & Broadway', 5621), ('Broadway & W 58 St', 5401), ('Broadway & E 14 St', 5177), ('Broadway & W 24 St', 4955)]\n",
      "CPU times: user 637 ms, sys: 18.8 ms, total: 656 ms\n",
      "Wall time: 679 ms\n"
     ]
    }
   ],
   "source": [
    "%%time\n",
    "# Approach 2 - CSV Tuple Reader and Counter with generator\n",
    "from csv import reader\n",
    "from collections import Counter\n",
    "\n",
    "def station_names(csv_path):\n",
    "    with open(csv_path) as f:\n",
    "        for row in reader(f):\n",
    "            yield row[4]\n",
    "\n",
    "print(Counter(station_names(\"citibike.csv\")).most_common(5))"
   ]
  },
  {
   "cell_type": "code",
   "execution_count": 4,
   "metadata": {},
   "outputs": [
    {
     "name": "stdout",
     "output_type": "stream",
     "text": [
      "start station name\n",
      "W 20 St & 11 Ave      5983\n",
      "E 17 St & Broadway    5621\n",
      "Broadway & W 58 St    5401\n",
      "Broadway & E 14 St    5177\n",
      "Broadway & W 24 St    4955\n",
      "Name: count, dtype: int64\n",
      "CPU times: user 2.24 s, sys: 318 ms, total: 2.56 s\n",
      "Wall time: 867 ms\n"
     ]
    }
   ],
   "source": [
    "%%time\n",
    "# Approach 3 - Pandas\n",
    "import pandas as pd\n",
    "\n",
    "df = pd.read_csv(\"citibike.csv\")\n",
    "print(df['start station name'].value_counts()[:5])"
   ]
  },
  {
   "cell_type": "code",
   "execution_count": 5,
   "metadata": {},
   "outputs": [
    {
     "name": "stdout",
     "output_type": "stream",
     "text": [
      "shape: (5, 2)\n",
      "┌────────────────────┬───────┐\n",
      "│ start station name ┆ count │\n",
      "│ ---                ┆ ---   │\n",
      "│ str                ┆ u32   │\n",
      "╞════════════════════╪═══════╡\n",
      "│ W 20 St & 11 Ave   ┆ 5983  │\n",
      "│ E 17 St & Broadway ┆ 5621  │\n",
      "│ Broadway & W 58 St ┆ 5401  │\n",
      "│ Broadway & E 14 St ┆ 5177  │\n",
      "│ Broadway & W 24 St ┆ 4955  │\n",
      "└────────────────────┴───────┘\n",
      "CPU times: user 279 ms, sys: 54.8 ms, total: 334 ms\n",
      "Wall time: 151 ms\n"
     ]
    }
   ],
   "source": [
    "%%time\n",
    "# Approach 4 - Polars\n",
    "import polars as pl\n",
    "\n",
    "df = pl.read_csv(\"citibike.csv\")\n",
    "print(df['start station name'].value_counts(sort=True)[:5])"
   ]
  },
  {
   "cell_type": "code",
   "execution_count": 6,
   "metadata": {},
   "outputs": [
    {
     "name": "stdout",
     "output_type": "stream",
     "text": [
      "┌────────────────────┬──────────────┐\n",
      "│ start station name │ count_star() │\n",
      "│      varchar       │    int64     │\n",
      "├────────────────────┼──────────────┤\n",
      "│ W 20 St & 11 Ave   │         5983 │\n",
      "│ E 17 St & Broadway │         5621 │\n",
      "│ Broadway & W 58 St │         5401 │\n",
      "│ Broadway & E 14 St │         5177 │\n",
      "│ Broadway & W 24 St │         4955 │\n",
      "└────────────────────┴──────────────┘\n",
      "\n",
      "None\n",
      "CPU times: user 324 ms, sys: 32.4 ms, total: 357 ms\n",
      "Wall time: 174 ms\n"
     ]
    }
   ],
   "source": [
    "%%time\n",
    "# Approach 5 - DuckDB\n",
    "import duckdb\n",
    "\n",
    "print(duckdb.sql(\"\"\"\n",
    "    SELECT \"start station name\", count(*)\n",
    "    FROM read_csv('citibike.csv')\n",
    "    GROUP BY \"start station name\"\n",
    "    ORDER BY 2 DESC\n",
    "    LIMIT 5\n",
    "\"\"\").show())"
   ]
  }
 ],
 "metadata": {
  "kernelspec": {
   "display_name": "Python 3",
   "language": "python",
   "name": "python3"
  },
  "language_info": {
   "codemirror_mode": {
    "name": "ipython",
    "version": 3
   },
   "file_extension": ".py",
   "mimetype": "text/x-python",
   "name": "python",
   "nbconvert_exporter": "python",
   "pygments_lexer": "ipython3",
   "version": "3.12.4"
  }
 },
 "nbformat": 4,
 "nbformat_minor": 2
}
